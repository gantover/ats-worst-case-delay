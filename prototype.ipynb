{
 "cells": [
  {
   "cell_type": "code",
   "execution_count": 1,
   "id": "37068a2e-3878-4f48-8df4-772a20657f64",
   "metadata": {},
   "outputs": [],
   "source": [
    "import pandas as pd\n",
    "import networkx as nx\n",
    "\n",
    "from program.flow import Flow\n",
    "from program.graph_construction import Create_graph, Create_Graph_old"
   ]
  },
  {
   "cell_type": "markdown",
   "id": "2ce7a294-e016-495c-9555-9a06ba1ed5d1",
   "metadata": {},
   "source": [
    "# PROTOTYPE\n",
    "\n",
    "### Objectives\n",
    "\n",
    "- Extract data from csv files to put in an appropriate data structure\n",
    "- Build a network and find shortest path"
   ]
  },
  {
   "cell_type": "code",
   "execution_count": 2,
   "id": "c7135ee5-87d7-4df9-b366-bbacb0c4e3a0",
   "metadata": {},
   "outputs": [],
   "source": [
    "\"\"\"Loading information about streams and topology of a network\"\"\"\n",
    "\n",
    "stream_file = \"test_cases/small-streams.v2.csv\"\n",
    "topology_file = \"test_cases/small-topology.v2.csv\"\n",
    "streams = pd.read_csv(stream_file,\n",
    "                      names=['PCP','StreamName','StreamType','SourceNode','DestinationNode','Size','Period','Deadline']\n",
    "                     )\n",
    "\n",
    "topology_cols = [str(i) for i in range(7)]\n",
    "topology = pd.read_csv(topology_file,names=topology_cols).groupby('0')"
   ]
  },
  {
   "cell_type": "code",
   "execution_count": 3,
   "id": "d1a6855e-7394-4a9d-b59e-4766868d9073",
   "metadata": {},
   "outputs": [],
   "source": [
    "\"\"\"Extracting the data about topology of network\"\"\"\n",
    "\n",
    "switches = topology.get_group('SW')\n",
    "switches = switches.drop(columns=['4','5','6'])\n",
    "switches.columns = ['DeviceType','DeviceName','Ports','Domain']\n",
    "\n",
    "end_systems = topology.get_group('ES')\n",
    "end_systems = end_systems.drop(columns=['4','5','6'])\n",
    "end_systems.columns = ['DeviceType','DeviceName','Ports','Domain']\n",
    "\n",
    "links = topology.get_group('LINK')\n",
    "links.columns = ['LINK','LinkID','SourceDevice','SourcePort','DestinationDevice','DestinationPort','Domain']"
   ]
  },
  {
   "cell_type": "code",
   "execution_count": 5,
   "id": "a5294c2b",
   "metadata": {},
   "outputs": [],
   "source": [
    "G = Create_Graph_old(end_systems,switches,links)\n",
    "G = Create_graph(pd.concat([end_systems,switches]).drop(columns='Domain'),links.drop(columns='Domain'))"
   ]
  },
  {
   "cell_type": "code",
   "execution_count": 14,
   "id": "570809fe",
   "metadata": {},
   "outputs": [
    {
     "data": {
      "text/html": [
       "<div>\n",
       "<style scoped>\n",
       "    .dataframe tbody tr th:only-of-type {\n",
       "        vertical-align: middle;\n",
       "    }\n",
       "\n",
       "    .dataframe tbody tr th {\n",
       "        vertical-align: top;\n",
       "    }\n",
       "\n",
       "    .dataframe thead th {\n",
       "        text-align: right;\n",
       "    }\n",
       "</style>\n",
       "<table border=\"1\" class=\"dataframe\">\n",
       "  <thead>\n",
       "    <tr style=\"text-align: right;\">\n",
       "      <th></th>\n",
       "      <th>PCP</th>\n",
       "      <th>StreamName</th>\n",
       "      <th>StreamType</th>\n",
       "      <th>SourceNode</th>\n",
       "      <th>DestinationNode</th>\n",
       "      <th>Size</th>\n",
       "      <th>Period</th>\n",
       "      <th>Deadline</th>\n",
       "    </tr>\n",
       "  </thead>\n",
       "  <tbody>\n",
       "    <tr>\n",
       "      <th>0</th>\n",
       "      <td>7</td>\n",
       "      <td>VLAN_0_Flow_0</td>\n",
       "      <td>ATS</td>\n",
       "      <td>node0_0_1_0</td>\n",
       "      <td>node0_0_3_0</td>\n",
       "      <td>100</td>\n",
       "      <td>10000</td>\n",
       "      <td>15000</td>\n",
       "    </tr>\n",
       "    <tr>\n",
       "      <th>1</th>\n",
       "      <td>7</td>\n",
       "      <td>VLAN_0_Flow_1</td>\n",
       "      <td>ATS</td>\n",
       "      <td>node0_0_1_1</td>\n",
       "      <td>node0_0_3_1</td>\n",
       "      <td>100</td>\n",
       "      <td>10000</td>\n",
       "      <td>15000</td>\n",
       "    </tr>\n",
       "    <tr>\n",
       "      <th>2</th>\n",
       "      <td>7</td>\n",
       "      <td>VLAN_0_Flow_2</td>\n",
       "      <td>ATS</td>\n",
       "      <td>node0_0_1_0</td>\n",
       "      <td>node0_0_3_1</td>\n",
       "      <td>100</td>\n",
       "      <td>10000</td>\n",
       "      <td>15000</td>\n",
       "    </tr>\n",
       "    <tr>\n",
       "      <th>3</th>\n",
       "      <td>7</td>\n",
       "      <td>VLAN_0_Flow_3</td>\n",
       "      <td>ATS</td>\n",
       "      <td>node0_0_1_1</td>\n",
       "      <td>node0_0_3_0</td>\n",
       "      <td>100</td>\n",
       "      <td>10000</td>\n",
       "      <td>15000</td>\n",
       "    </tr>\n",
       "    <tr>\n",
       "      <th>4</th>\n",
       "      <td>7</td>\n",
       "      <td>VLAN_0_Flow_4</td>\n",
       "      <td>ATS</td>\n",
       "      <td>node0_0_1_0</td>\n",
       "      <td>node0_0_3_0</td>\n",
       "      <td>100</td>\n",
       "      <td>10000</td>\n",
       "      <td>15000</td>\n",
       "    </tr>\n",
       "  </tbody>\n",
       "</table>\n",
       "</div>"
      ],
      "text/plain": [
       "   PCP     StreamName StreamType   SourceNode DestinationNode  Size  Period  \\\n",
       "0    7  VLAN_0_Flow_0        ATS  node0_0_1_0     node0_0_3_0   100   10000   \n",
       "1    7  VLAN_0_Flow_1        ATS  node0_0_1_1     node0_0_3_1   100   10000   \n",
       "2    7  VLAN_0_Flow_2        ATS  node0_0_1_0     node0_0_3_1   100   10000   \n",
       "3    7  VLAN_0_Flow_3        ATS  node0_0_1_1     node0_0_3_0   100   10000   \n",
       "4    7  VLAN_0_Flow_4        ATS  node0_0_1_0     node0_0_3_0   100   10000   \n",
       "\n",
       "   Deadline  \n",
       "0     15000  \n",
       "1     15000  \n",
       "2     15000  \n",
       "3     15000  \n",
       "4     15000  "
      ]
     },
     "execution_count": 14,
     "metadata": {},
     "output_type": "execute_result"
    }
   ],
   "source": [
    "streams.head()"
   ]
  },
  {
   "cell_type": "code",
   "execution_count": 22,
   "id": "8016a50b",
   "metadata": {},
   "outputs": [],
   "source": [
    "test = Flow(stream)"
   ]
  },
  {
   "cell_type": "code",
   "execution_count": 23,
   "id": "11be1a73",
   "metadata": {},
   "outputs": [
    {
     "ename": "AttributeError",
     "evalue": "'Flow' object has no attribute 'path'",
     "output_type": "error",
     "traceback": [
      "\u001b[1;31m---------------------------------------------------------------------------\u001b[0m",
      "\u001b[1;31mAttributeError\u001b[0m                            Traceback (most recent call last)",
      "File \u001b[1;32m~\\AppData\\Local\\Packages\\PythonSoftwareFoundation.Python.3.10_qbz5n2kfra8p0\\LocalCache\\local-packages\\Python310\\site-packages\\IPython\\core\\formatters.py:707\u001b[0m, in \u001b[0;36mPlainTextFormatter.__call__\u001b[1;34m(self, obj)\u001b[0m\n\u001b[0;32m    700\u001b[0m stream \u001b[38;5;241m=\u001b[39m StringIO()\n\u001b[0;32m    701\u001b[0m printer \u001b[38;5;241m=\u001b[39m pretty\u001b[38;5;241m.\u001b[39mRepresentationPrinter(stream, \u001b[38;5;28mself\u001b[39m\u001b[38;5;241m.\u001b[39mverbose,\n\u001b[0;32m    702\u001b[0m     \u001b[38;5;28mself\u001b[39m\u001b[38;5;241m.\u001b[39mmax_width, \u001b[38;5;28mself\u001b[39m\u001b[38;5;241m.\u001b[39mnewline,\n\u001b[0;32m    703\u001b[0m     max_seq_length\u001b[38;5;241m=\u001b[39m\u001b[38;5;28mself\u001b[39m\u001b[38;5;241m.\u001b[39mmax_seq_length,\n\u001b[0;32m    704\u001b[0m     singleton_pprinters\u001b[38;5;241m=\u001b[39m\u001b[38;5;28mself\u001b[39m\u001b[38;5;241m.\u001b[39msingleton_printers,\n\u001b[0;32m    705\u001b[0m     type_pprinters\u001b[38;5;241m=\u001b[39m\u001b[38;5;28mself\u001b[39m\u001b[38;5;241m.\u001b[39mtype_printers,\n\u001b[0;32m    706\u001b[0m     deferred_pprinters\u001b[38;5;241m=\u001b[39m\u001b[38;5;28mself\u001b[39m\u001b[38;5;241m.\u001b[39mdeferred_printers)\n\u001b[1;32m--> 707\u001b[0m \u001b[43mprinter\u001b[49m\u001b[38;5;241;43m.\u001b[39;49m\u001b[43mpretty\u001b[49m\u001b[43m(\u001b[49m\u001b[43mobj\u001b[49m\u001b[43m)\u001b[49m\n\u001b[0;32m    708\u001b[0m printer\u001b[38;5;241m.\u001b[39mflush()\n\u001b[0;32m    709\u001b[0m \u001b[38;5;28;01mreturn\u001b[39;00m stream\u001b[38;5;241m.\u001b[39mgetvalue()\n",
      "File \u001b[1;32m~\\AppData\\Local\\Packages\\PythonSoftwareFoundation.Python.3.10_qbz5n2kfra8p0\\LocalCache\\local-packages\\Python310\\site-packages\\IPython\\lib\\pretty.py:410\u001b[0m, in \u001b[0;36mRepresentationPrinter.pretty\u001b[1;34m(self, obj)\u001b[0m\n\u001b[0;32m    407\u001b[0m                         \u001b[38;5;28;01mreturn\u001b[39;00m meth(obj, \u001b[38;5;28mself\u001b[39m, cycle)\n\u001b[0;32m    408\u001b[0m                 \u001b[38;5;28;01mif\u001b[39;00m \u001b[38;5;28mcls\u001b[39m \u001b[38;5;129;01mis\u001b[39;00m \u001b[38;5;129;01mnot\u001b[39;00m \u001b[38;5;28mobject\u001b[39m \\\n\u001b[0;32m    409\u001b[0m                         \u001b[38;5;129;01mand\u001b[39;00m callable(\u001b[38;5;28mcls\u001b[39m\u001b[38;5;241m.\u001b[39m\u001b[38;5;18m__dict__\u001b[39m\u001b[38;5;241m.\u001b[39mget(\u001b[38;5;124m'\u001b[39m\u001b[38;5;124m__repr__\u001b[39m\u001b[38;5;124m'\u001b[39m)):\n\u001b[1;32m--> 410\u001b[0m                     \u001b[38;5;28;01mreturn\u001b[39;00m \u001b[43m_repr_pprint\u001b[49m\u001b[43m(\u001b[49m\u001b[43mobj\u001b[49m\u001b[43m,\u001b[49m\u001b[43m \u001b[49m\u001b[38;5;28;43mself\u001b[39;49m\u001b[43m,\u001b[49m\u001b[43m \u001b[49m\u001b[43mcycle\u001b[49m\u001b[43m)\u001b[49m\n\u001b[0;32m    412\u001b[0m     \u001b[38;5;28;01mreturn\u001b[39;00m _default_pprint(obj, \u001b[38;5;28mself\u001b[39m, cycle)\n\u001b[0;32m    413\u001b[0m \u001b[38;5;28;01mfinally\u001b[39;00m:\n",
      "File \u001b[1;32m~\\AppData\\Local\\Packages\\PythonSoftwareFoundation.Python.3.10_qbz5n2kfra8p0\\LocalCache\\local-packages\\Python310\\site-packages\\IPython\\lib\\pretty.py:778\u001b[0m, in \u001b[0;36m_repr_pprint\u001b[1;34m(obj, p, cycle)\u001b[0m\n\u001b[0;32m    776\u001b[0m \u001b[38;5;124;03m\"\"\"A pprint that just redirects to the normal repr function.\"\"\"\u001b[39;00m\n\u001b[0;32m    777\u001b[0m \u001b[38;5;66;03m# Find newlines and replace them with p.break_()\u001b[39;00m\n\u001b[1;32m--> 778\u001b[0m output \u001b[38;5;241m=\u001b[39m \u001b[38;5;28;43mrepr\u001b[39;49m\u001b[43m(\u001b[49m\u001b[43mobj\u001b[49m\u001b[43m)\u001b[49m\n\u001b[0;32m    779\u001b[0m lines \u001b[38;5;241m=\u001b[39m output\u001b[38;5;241m.\u001b[39msplitlines()\n\u001b[0;32m    780\u001b[0m \u001b[38;5;28;01mwith\u001b[39;00m p\u001b[38;5;241m.\u001b[39mgroup():\n",
      "File \u001b[1;32mc:\\Users\\wilkk\\OneDrive - Danmarks Tekniske Universitet\\Networked embedded systems\\ats-worst-case-delay\\program\\flow.py:30\u001b[0m, in \u001b[0;36mFlow.__repr__\u001b[1;34m(self)\u001b[0m\n\u001b[0;32m     28\u001b[0m \u001b[38;5;28;01mdef\u001b[39;00m \u001b[38;5;21m__repr__\u001b[39m(\u001b[38;5;28mself\u001b[39m):\n\u001b[0;32m     29\u001b[0m     \u001b[38;5;66;03m# just to have a print for comparison with solution.csv file\u001b[39;00m\n\u001b[1;32m---> 30\u001b[0m     path \u001b[38;5;241m=\u001b[39m \u001b[38;5;124m\"\u001b[39m\u001b[38;5;124m->\u001b[39m\u001b[38;5;124m\"\u001b[39m\u001b[38;5;241m.\u001b[39mjoin(\u001b[38;5;28;43mself\u001b[39;49m\u001b[38;5;241;43m.\u001b[39;49m\u001b[43mpath\u001b[49m)\n\u001b[0;32m     31\u001b[0m     \u001b[38;5;28;01mreturn\u001b[39;00m \u001b[38;5;124mf\u001b[39m\u001b[38;5;124m\"\u001b[39m\u001b[38;5;132;01m{\u001b[39;00m\u001b[38;5;28mself\u001b[39m\u001b[38;5;241m.\u001b[39mname\u001b[38;5;132;01m}\u001b[39;00m\u001b[38;5;124m,\u001b[39m\u001b[38;5;132;01m{\u001b[39;00m\u001b[38;5;28mround\u001b[39m(\u001b[38;5;28mself\u001b[39m\u001b[38;5;241m.\u001b[39mtotal_delay \u001b[38;5;241m*\u001b[39m \u001b[38;5;241m1e6\u001b[39m, \u001b[38;5;241m3\u001b[39m)\u001b[38;5;132;01m}\u001b[39;00m\u001b[38;5;124m,\u001b[39m\u001b[38;5;132;01m{\u001b[39;00m\u001b[38;5;28mself\u001b[39m\u001b[38;5;241m.\u001b[39mdeadline\u001b[38;5;132;01m}\u001b[39;00m\u001b[38;5;124m,\u001b[39m\u001b[38;5;132;01m{\u001b[39;00mpath\u001b[38;5;132;01m}\u001b[39;00m\u001b[38;5;124m\"\u001b[39m\n",
      "\u001b[1;31mAttributeError\u001b[0m: 'Flow' object has no attribute 'path'"
     ]
    }
   ],
   "source": [
    "test"
   ]
  },
  {
   "cell_type": "code",
   "execution_count": 16,
   "id": "2da6723a",
   "metadata": {},
   "outputs": [
    {
     "ename": "ValueError",
     "evalue": "too many values to unpack (expected 2)",
     "output_type": "error",
     "traceback": [
      "\u001b[1;31m---------------------------------------------------------------------------\u001b[0m",
      "\u001b[1;31mValueError\u001b[0m                                Traceback (most recent call last)",
      "Input \u001b[1;32mIn [16]\u001b[0m, in \u001b[0;36m<cell line: 2>\u001b[1;34m()\u001b[0m\n\u001b[0;32m      2\u001b[0m \u001b[38;5;28;01mfor\u001b[39;00m _, stream \u001b[38;5;129;01min\u001b[39;00m streams\u001b[38;5;241m.\u001b[39miterrows():\n\u001b[0;32m      3\u001b[0m     flow \u001b[38;5;241m=\u001b[39m Flow(stream)\n\u001b[1;32m----> 4\u001b[0m     \u001b[43mflow\u001b[49m\u001b[38;5;241;43m.\u001b[39;49m\u001b[43mfind_path\u001b[49m\u001b[43m(\u001b[49m\u001b[43mG\u001b[49m\u001b[43m)\u001b[49m\n\u001b[0;32m      5\u001b[0m     flows\u001b[38;5;241m.\u001b[39mappend(flow)\n\u001b[0;32m      7\u001b[0m \u001b[38;5;28;01mfor\u001b[39;00m flow \u001b[38;5;129;01min\u001b[39;00m flows:\n",
      "File \u001b[1;32mc:\\Users\\wilkk\\OneDrive - Danmarks Tekniske Universitet\\Networked embedded systems\\ats-worst-case-delay\\program\\flow.py:25\u001b[0m, in \u001b[0;36mFlow.find_path\u001b[1;34m(self, G)\u001b[0m\n\u001b[0;32m     23\u001b[0m \u001b[38;5;28mself\u001b[39m\u001b[38;5;241m.\u001b[39mlinks \u001b[38;5;241m=\u001b[39m []\n\u001b[0;32m     24\u001b[0m \u001b[38;5;28;01mfor\u001b[39;00m edge \u001b[38;5;129;01min\u001b[39;00m edges:\n\u001b[1;32m---> 25\u001b[0m     link \u001b[38;5;241m=\u001b[39m \u001b[43mG\u001b[49m\u001b[38;5;241;43m.\u001b[39;49m\u001b[43medges\u001b[49m\u001b[38;5;241;43m.\u001b[39;49m\u001b[43mget\u001b[49m\u001b[43m(\u001b[49m\u001b[43m[\u001b[49m\u001b[43medge\u001b[49m\u001b[43m[\u001b[49m\u001b[38;5;241;43m0\u001b[39;49m\u001b[43m]\u001b[49m\u001b[43m,\u001b[49m\u001b[43m \u001b[49m\u001b[43medge\u001b[49m\u001b[43m[\u001b[49m\u001b[38;5;241;43m1\u001b[39;49m\u001b[43m]\u001b[49m\u001b[43m,\u001b[49m\u001b[43m \u001b[49m\u001b[38;5;241;43m0\u001b[39;49m\u001b[43m]\u001b[49m\u001b[43m)\u001b[49m\n\u001b[0;32m     26\u001b[0m     \u001b[38;5;28mself\u001b[39m\u001b[38;5;241m.\u001b[39mlinks\u001b[38;5;241m.\u001b[39mappend({\u001b[38;5;124m\"\u001b[39m\u001b[38;5;124medges\u001b[39m\u001b[38;5;124m\"\u001b[39m: [G\u001b[38;5;241m.\u001b[39mnodes[edge[\u001b[38;5;241m0\u001b[39m]], G\u001b[38;5;241m.\u001b[39mnodes[edge[\u001b[38;5;241m1\u001b[39m]]], \u001b[38;5;124m\"\u001b[39m\u001b[38;5;124mdata\u001b[39m\u001b[38;5;124m\"\u001b[39m: link})\n",
      "File \u001b[1;32mC:\\Program Files\\WindowsApps\\PythonSoftwareFoundation.Python.3.10_3.10.3056.0_x64__qbz5n2kfra8p0\\lib\\_collections_abc.py:824\u001b[0m, in \u001b[0;36mMapping.get\u001b[1;34m(self, key, default)\u001b[0m\n\u001b[0;32m    822\u001b[0m \u001b[38;5;124m'\u001b[39m\u001b[38;5;124mD.get(k[,d]) -> D[k] if k in D, else d.  d defaults to None.\u001b[39m\u001b[38;5;124m'\u001b[39m\n\u001b[0;32m    823\u001b[0m \u001b[38;5;28;01mtry\u001b[39;00m:\n\u001b[1;32m--> 824\u001b[0m     \u001b[38;5;28;01mreturn\u001b[39;00m \u001b[38;5;28;43mself\u001b[39;49m\u001b[43m[\u001b[49m\u001b[43mkey\u001b[49m\u001b[43m]\u001b[49m\n\u001b[0;32m    825\u001b[0m \u001b[38;5;28;01mexcept\u001b[39;00m \u001b[38;5;167;01mKeyError\u001b[39;00m:\n\u001b[0;32m    826\u001b[0m     \u001b[38;5;28;01mreturn\u001b[39;00m default\n",
      "File \u001b[1;32m~\\AppData\\Local\\Packages\\PythonSoftwareFoundation.Python.3.10_qbz5n2kfra8p0\\LocalCache\\local-packages\\Python310\\site-packages\\networkx\\classes\\reportviews.py:1093\u001b[0m, in \u001b[0;36mOutEdgeView.__getitem__\u001b[1;34m(self, e)\u001b[0m\n\u001b[0;32m   1088\u001b[0m \u001b[38;5;28;01mif\u001b[39;00m \u001b[38;5;28misinstance\u001b[39m(e, \u001b[38;5;28mslice\u001b[39m):\n\u001b[0;32m   1089\u001b[0m     \u001b[38;5;28;01mraise\u001b[39;00m nx\u001b[38;5;241m.\u001b[39mNetworkXError(\n\u001b[0;32m   1090\u001b[0m         \u001b[38;5;124mf\u001b[39m\u001b[38;5;124m\"\u001b[39m\u001b[38;5;132;01m{\u001b[39;00m\u001b[38;5;28mtype\u001b[39m(\u001b[38;5;28mself\u001b[39m)\u001b[38;5;241m.\u001b[39m\u001b[38;5;18m__name__\u001b[39m\u001b[38;5;132;01m}\u001b[39;00m\u001b[38;5;124m does not support slicing, \u001b[39m\u001b[38;5;124m\"\u001b[39m\n\u001b[0;32m   1091\u001b[0m         \u001b[38;5;124mf\u001b[39m\u001b[38;5;124m\"\u001b[39m\u001b[38;5;124mtry list(G.edges)[\u001b[39m\u001b[38;5;132;01m{\u001b[39;00me\u001b[38;5;241m.\u001b[39mstart\u001b[38;5;132;01m}\u001b[39;00m\u001b[38;5;124m:\u001b[39m\u001b[38;5;132;01m{\u001b[39;00me\u001b[38;5;241m.\u001b[39mstop\u001b[38;5;132;01m}\u001b[39;00m\u001b[38;5;124m:\u001b[39m\u001b[38;5;132;01m{\u001b[39;00me\u001b[38;5;241m.\u001b[39mstep\u001b[38;5;132;01m}\u001b[39;00m\u001b[38;5;124m]\u001b[39m\u001b[38;5;124m\"\u001b[39m\n\u001b[0;32m   1092\u001b[0m     )\n\u001b[1;32m-> 1093\u001b[0m u, v \u001b[38;5;241m=\u001b[39m e\n\u001b[0;32m   1094\u001b[0m \u001b[38;5;28;01mreturn\u001b[39;00m \u001b[38;5;28mself\u001b[39m\u001b[38;5;241m.\u001b[39m_adjdict[u][v]\n",
      "\u001b[1;31mValueError\u001b[0m: too many values to unpack (expected 2)"
     ]
    }
   ],
   "source": [
    "flows = []\n",
    "for _, stream in streams.iterrows():\n",
    "    flow = Flow(stream)\n",
    "    flow.find_path(G)\n",
    "    flows.append(flow)\n",
    "\n",
    "for flow in flows:\n",
    "    flow.fill_nodes()\n",
    "    pass"
   ]
  },
  {
   "cell_type": "code",
   "execution_count": 13,
   "id": "e1d36dde",
   "metadata": {},
   "outputs": [
    {
     "name": "stdout",
     "output_type": "stream",
     "text": [
      "VLAN_0_Flow_0,18.4,15000,node0_0_1_0->sw_0_1->sw_0_3->node0_0_3_0\n",
      "VLAN_0_Flow_1,18.4,15000,node0_0_1_1->sw_0_1->sw_0_3->node0_0_3_1\n",
      "VLAN_0_Flow_2,18.4,15000,node0_0_1_0->sw_0_1->sw_0_3->node0_0_3_1\n",
      "VLAN_0_Flow_3,18.4,15000,node0_0_1_1->sw_0_1->sw_0_3->node0_0_3_0\n",
      "VLAN_0_Flow_4,18.4,15000,node0_0_1_0->sw_0_1->sw_0_3->node0_0_3_0\n",
      "VLAN_0_Flow_5,18.4,15000,node0_0_1_1->sw_0_1->sw_0_3->node0_0_3_1\n",
      "VLAN_0_Flow_6,18.4,15000,node0_0_1_0->sw_0_1->sw_0_3->node0_0_3_1\n",
      "VLAN_0_Flow_7,18.4,15000,node0_0_1_1->sw_0_1->sw_0_3->node0_0_3_0\n",
      "VLAN_0_Flow_8,18.4,15000,node0_0_1_0->sw_0_1->sw_0_3->node0_0_3_0\n",
      "VLAN_0_Flow_9,18.4,15000,node0_0_1_1->sw_0_1->sw_0_3->node0_0_3_1\n",
      "VLAN_0_Flow_10,32.0,18000,node0_0_1_0->sw_0_1->sw_0_3->node0_0_3_0\n",
      "VLAN_0_Flow_11,32.0,18000,node0_0_1_1->sw_0_1->sw_0_3->node0_0_3_1\n",
      "VLAN_0_Flow_12,32.0,18000,node0_0_1_0->sw_0_1->sw_0_3->node0_0_3_1\n",
      "VLAN_0_Flow_13,32.0,18000,node0_0_1_1->sw_0_1->sw_0_3->node0_0_3_0\n",
      "VLAN_0_Flow_14,32.0,18000,node0_0_1_0->sw_0_1->sw_0_3->node0_0_3_0\n",
      "VLAN_0_Flow_15,32.0,18000,node0_0_1_1->sw_0_1->sw_0_3->node0_0_3_1\n",
      "VLAN_0_Flow_16,32.0,18000,node0_0_1_0->sw_0_1->sw_0_3->node0_0_3_1\n",
      "VLAN_0_Flow_17,32.0,18000,node0_0_1_1->sw_0_1->sw_0_3->node0_0_3_0\n",
      "VLAN_0_Flow_18,32.0,18000,node0_0_1_0->sw_0_1->sw_0_3->node0_0_3_0\n",
      "VLAN_0_Flow_19,32.0,18000,node0_0_1_1->sw_0_1->sw_0_3->node0_0_3_1\n",
      "VLAN_0_Flow_20,16.8,20000,node0_0_2_0->sw_0_2->sw_0_3->node0_0_3_0\n",
      "VLAN_0_Flow_21,16.8,20000,node0_0_2_1->sw_0_2->sw_0_3->node0_0_3_1\n",
      "VLAN_0_Flow_22,16.8,20000,node0_0_2_0->sw_0_2->sw_0_3->node0_0_3_1\n",
      "VLAN_0_Flow_23,16.8,20000,node0_0_2_1->sw_0_2->sw_0_3->node0_0_3_0\n",
      "VLAN_0_Flow_24,16.8,20000,node0_0_2_0->sw_0_2->sw_0_3->node0_0_3_0\n",
      "VLAN_0_Flow_25,16.8,20000,node0_0_2_1->sw_0_2->sw_0_3->node0_0_3_1\n",
      "VLAN_0_Flow_26,16.8,20000,node0_0_2_0->sw_0_2->sw_0_3->node0_0_3_1\n",
      "VLAN_0_Flow_27,16.8,20000,node0_0_2_1->sw_0_2->sw_0_3->node0_0_3_0\n",
      "VLAN_0_Flow_28,16.8,20000,node0_0_2_0->sw_0_2->sw_0_3->node0_0_3_0\n",
      "VLAN_0_Flow_29,16.8,20000,node0_0_2_1->sw_0_2->sw_0_3->node0_0_3_1\n"
     ]
    }
   ],
   "source": [
    "for flow in flows:\n",
    "    flow.get_total_delay()\n",
    "    print(flow)"
   ]
  },
  {
   "cell_type": "code",
   "execution_count": 14,
   "id": "77c39058-24a1-4323-b2b5-e81e082f5b87",
   "metadata": {},
   "outputs": [
    {
     "ename": "AttributeError",
     "evalue": "'Flow' object has no attribute 'new_get_total_delay'",
     "output_type": "error",
     "traceback": [
      "\u001b[1;31m---------------------------------------------------------------------------\u001b[0m",
      "\u001b[1;31mAttributeError\u001b[0m                            Traceback (most recent call last)",
      "Input \u001b[1;32mIn [14]\u001b[0m, in \u001b[0;36m<cell line: 1>\u001b[1;34m()\u001b[0m\n\u001b[0;32m      1\u001b[0m \u001b[38;5;28;01mfor\u001b[39;00m flow \u001b[38;5;129;01min\u001b[39;00m flows:\n\u001b[1;32m----> 2\u001b[0m     \u001b[43mflow\u001b[49m\u001b[38;5;241;43m.\u001b[39;49m\u001b[43mnew_get_total_delay\u001b[49m()\n\u001b[0;32m      3\u001b[0m     \u001b[38;5;28mprint\u001b[39m(flow)\n",
      "\u001b[1;31mAttributeError\u001b[0m: 'Flow' object has no attribute 'new_get_total_delay'"
     ]
    }
   ],
   "source": [
    "for flow in flows:\n",
    "    flow.new_get_total_delay()\n",
    "    print(flow)"
   ]
  },
  {
   "cell_type": "code",
   "execution_count": null,
   "id": "b6ca6052",
   "metadata": {},
   "outputs": [
    {
     "name": "stdout",
     "output_type": "stream",
     "text": [
      "Stream_1,70.12,9389,ES_1->Switch_1->Switch_8->Switch_7->ES_14\n"
     ]
    }
   ],
   "source": [
    "flows[0].get_total_delay()\n",
    "    # print(f\"{flow.name}, {flow.total_delay * 1e6}\")\n",
    "print(flows[0])"
   ]
  },
  {
   "cell_type": "code",
   "execution_count": null,
   "id": "5a551450",
   "metadata": {},
   "outputs": [
    {
     "name": "stdout",
     "output_type": "stream",
     "text": [
      "{'source_port': 1.0, 'destination_port': 1.0, 'link_id': 'Link_1', 'flows': {7: [Stream_1,70.12,9389,ES_1->Switch_1->Switch_8->Switch_7->ES_14, Stream_2,92.424,9186,ES_1->Switch_1->Switch_2->Switch_3->Switch_4->ES_8], 2: [Stream_3,129.528,9867,ES_1->Switch_1->Switch_8->Switch_7->Switch_6->ES_12, Stream_10,27.024,1673,ES_4->Switch_2->Switch_1->ES_1]}}\n",
      "{'source_port': 1.0, 'destination_port': 2.0, 'link_id': 'Link_2', 'flows': {7: [Stream_4,49.2,4052,ES_2->Switch_1->Switch_8->ES_15], 4: [Stream_5,54.944,7762,ES_2->Switch_1->Switch_8->ES_16], 1: [Stream_6,89.792,5706,ES_2->Switch_1->Switch_8->Switch_7->ES_13], 2: [Stream_37,57.04,6452,ES_13->Switch_7->Switch_8->Switch_1->ES_2]}}\n",
      "{'source_port': 3.0, 'destination_port': 3.0, 'link_id': 'Link_17', 'flows': {7: [Stream_2,92.424,9186,ES_1->Switch_1->Switch_2->Switch_3->Switch_4->ES_8, Stream_45,55.768,1007,ES_15->Switch_8->Switch_1->Switch_2->ES_4], 2: [Stream_10,27.024,1673,ES_4->Switch_2->Switch_1->ES_1], 0: [Stream_17,100.896,7943,ES_6->Switch_3->Switch_2->Switch_1->Switch_8->ES_15], 4: [Stream_42,56.768,9299,ES_14->Switch_7->Switch_8->Switch_1->Switch_2->ES_3]}}\n",
      "{'source_port': 4.0, 'destination_port': 3.0, 'link_id': 'Link_18', 'flows': {7: [Stream_1,70.12,9389,ES_1->Switch_1->Switch_8->Switch_7->ES_14, Stream_4,49.2,4052,ES_2->Switch_1->Switch_8->ES_15, Stream_45,55.768,1007,ES_15->Switch_8->Switch_1->Switch_2->ES_4], 2: [Stream_3,129.528,9867,ES_1->Switch_1->Switch_8->Switch_7->Switch_6->ES_12, Stream_37,57.04,6452,ES_13->Switch_7->Switch_8->Switch_1->ES_2], 4: [Stream_5,54.944,7762,ES_2->Switch_1->Switch_8->ES_16, Stream_42,56.768,9299,ES_14->Switch_7->Switch_8->Switch_1->Switch_2->ES_3], 1: [Stream_6,89.792,5706,ES_2->Switch_1->Switch_8->Switch_7->ES_13], 0: [Stream_17,100.896,7943,ES_6->Switch_3->Switch_2->Switch_1->Switch_8->ES_15]}}\n",
      "{'source_port': 1.0, 'destination_port': 1.0, 'link_id': 'Link_3', 'flows': {4: [Stream_7,37.464,2163,ES_3->Switch_2->ES_4, Stream_42,56.768,9299,ES_14->Switch_7->Switch_8->Switch_1->Switch_2->ES_3], 5: [Stream_8,133.176,6938,ES_3->Switch_2->Switch_3->Switch_4->Switch_5->ES_10], 7: [Stream_9,93.512,9711,ES_3->Switch_2->Switch_3->Switch_4->Switch_5->Switch_6->ES_11], 3: [Stream_18,36.832,1768,ES_6->Switch_3->Switch_2->ES_3]}}\n",
      "{'source_port': 1.0, 'destination_port': 2.0, 'link_id': 'Link_4', 'flows': {4: [Stream_7,37.464,2163,ES_3->Switch_2->ES_4, Stream_11,52.696,991,ES_4->Switch_2->Switch_3->ES_6], 2: [Stream_10,27.024,1673,ES_4->Switch_2->Switch_1->ES_1, Stream_12,137.672,9993,ES_4->Switch_2->Switch_3->Switch_4->Switch_5->ES_9], 5: [Stream_22,51.096,4110,ES_8->Switch_4->Switch_3->Switch_2->ES_4], 3: [Stream_30,86.784,6158,ES_10->Switch_5->Switch_4->Switch_3->Switch_2->ES_4], 7: [Stream_45,55.768,1007,ES_15->Switch_8->Switch_1->Switch_2->ES_4]}}\n",
      "{'source_port': 4.0, 'destination_port': 3.0, 'link_id': 'Link_19', 'flows': {7: [Stream_2,92.424,9186,ES_1->Switch_1->Switch_2->Switch_3->Switch_4->ES_8, Stream_9,93.512,9711,ES_3->Switch_2->Switch_3->Switch_4->Switch_5->Switch_6->ES_11], 5: [Stream_8,133.176,6938,ES_3->Switch_2->Switch_3->Switch_4->Switch_5->ES_10, Stream_22,51.096,4110,ES_8->Switch_4->Switch_3->Switch_2->ES_4], 4: [Stream_11,52.696,991,ES_4->Switch_2->Switch_3->ES_6], 2: [Stream_12,137.672,9993,ES_4->Switch_2->Switch_3->Switch_4->Switch_5->ES_9], 0: [Stream_17,100.896,7943,ES_6->Switch_3->Switch_2->Switch_1->Switch_8->ES_15], 3: [Stream_18,36.832,1768,ES_6->Switch_3->Switch_2->ES_3, Stream_30,86.784,6158,ES_10->Switch_5->Switch_4->Switch_3->Switch_2->ES_4]}}\n",
      "{'source_port': 1.0, 'destination_port': 1.0, 'link_id': 'Link_5', 'flows': {7: [Stream_13,19.432,7742,ES_5->Switch_3->ES_6], 5: [Stream_14,84.848,832,ES_5->Switch_3->Switch_4->Switch_5->ES_9], 1: [Stream_15,184.872,6640,ES_5->Switch_3->Switch_4->Switch_5->Switch_6->Switch_7->ES_14], 0: [Stream_31,107.04,1223,ES_11->Switch_6->Switch_5->Switch_4->Switch_3->ES_5]}}\n",
      "{'source_port': 1.0, 'destination_port': 2.0, 'link_id': 'Link_6', 'flows': {4: [Stream_11,52.696,991,ES_4->Switch_2->Switch_3->ES_6], 7: [Stream_13,19.432,7742,ES_5->Switch_3->ES_6], 1: [Stream_16,129.968,7440,ES_6->Switch_3->Switch_4->Switch_5->ES_9], 0: [Stream_17,100.896,7943,ES_6->Switch_3->Switch_2->Switch_1->Switch_8->ES_15], 3: [Stream_18,36.832,1768,ES_6->Switch_3->Switch_2->ES_3]}}\n",
      "{'source_port': 4.0, 'destination_port': 3.0, 'link_id': 'Link_20', 'flows': {7: [Stream_2,92.424,9186,ES_1->Switch_1->Switch_2->Switch_3->Switch_4->ES_8, Stream_9,93.512,9711,ES_3->Switch_2->Switch_3->Switch_4->Switch_5->Switch_6->ES_11], 5: [Stream_8,133.176,6938,ES_3->Switch_2->Switch_3->Switch_4->Switch_5->ES_10, Stream_14,84.848,832,ES_5->Switch_3->Switch_4->Switch_5->ES_9, Stream_22,51.096,4110,ES_8->Switch_4->Switch_3->Switch_2->ES_4], 2: [Stream_12,137.672,9993,ES_4->Switch_2->Switch_3->Switch_4->Switch_5->ES_9], 1: [Stream_15,184.872,6640,ES_5->Switch_3->Switch_4->Switch_5->Switch_6->Switch_7->ES_14, Stream_16,129.968,7440,ES_6->Switch_3->Switch_4->Switch_5->ES_9], 3: [Stream_30,86.784,6158,ES_10->Switch_5->Switch_4->Switch_3->Switch_2->ES_4], 0: [Stream_31,107.04,1223,ES_11->Switch_6->Switch_5->Switch_4->Switch_3->ES_5]}}\n",
      "{'source_port': 1.0, 'destination_port': 1.0, 'link_id': 'Link_7', 'flows': {1: [Stream_19,113.48,2037,ES_7->Switch_4->Switch_5->ES_10, Stream_20,113.48,6869,ES_7->Switch_4->Switch_5->ES_10, Stream_21,128.872,2249,ES_7->Switch_4->Switch_5->Switch_6->ES_11], 2: [Stream_29,65.864,3197,ES_10->Switch_5->Switch_4->ES_7], 0: [Stream_34,106.752,5253,ES_12->Switch_6->Switch_5->Switch_4->ES_7], 7: [Stream_41,54.288,3617,ES_14->Switch_7->Switch_6->Switch_5->Switch_4->ES_7]}}\n",
      "{'source_port': 1.0, 'destination_port': 2.0, 'link_id': 'Link_8', 'flows': {7: [Stream_2,92.424,9186,ES_1->Switch_1->Switch_2->Switch_3->Switch_4->ES_8], 5: [Stream_22,51.096,4110,ES_8->Switch_4->Switch_3->Switch_2->ES_4], 4: [Stream_23,75.568,1033,ES_8->Switch_4->Switch_5->ES_9], 6: [Stream_24,46.576,6249,ES_8->Switch_4->Switch_5->ES_10], 1: [Stream_28,67.248,2949,ES_10->Switch_5->Switch_4->ES_8]}}\n",
      "{'source_port': 4.0, 'destination_port': 3.0, 'link_id': 'Link_21', 'flows': {5: [Stream_8,133.176,6938,ES_3->Switch_2->Switch_3->Switch_4->Switch_5->ES_10, Stream_14,84.848,832,ES_5->Switch_3->Switch_4->Switch_5->ES_9], 7: [Stream_9,93.512,9711,ES_3->Switch_2->Switch_3->Switch_4->Switch_5->Switch_6->ES_11, Stream_41,54.288,3617,ES_14->Switch_7->Switch_6->Switch_5->Switch_4->ES_7], 2: [Stream_12,137.672,9993,ES_4->Switch_2->Switch_3->Switch_4->Switch_5->ES_9, Stream_29,65.864,3197,ES_10->Switch_5->Switch_4->ES_7], 1: [Stream_15,184.872,6640,ES_5->Switch_3->Switch_4->Switch_5->Switch_6->Switch_7->ES_14, Stream_16,129.968,7440,ES_6->Switch_3->Switch_4->Switch_5->ES_9, Stream_19,113.48,2037,ES_7->Switch_4->Switch_5->ES_10, Stream_20,113.48,6869,ES_7->Switch_4->Switch_5->ES_10, Stream_21,128.872,2249,ES_7->Switch_4->Switch_5->Switch_6->ES_11, Stream_28,67.248,2949,ES_10->Switch_5->Switch_4->ES_8], 4: [Stream_23,75.568,1033,ES_8->Switch_4->Switch_5->ES_9], 6: [Stream_24,46.576,6249,ES_8->Switch_4->Switch_5->ES_10], 3: [Stream_30,86.784,6158,ES_10->Switch_5->Switch_4->Switch_3->Switch_2->ES_4], 0: [Stream_31,107.04,1223,ES_11->Switch_6->Switch_5->Switch_4->Switch_3->ES_5, Stream_34,106.752,5253,ES_12->Switch_6->Switch_5->Switch_4->ES_7]}}\n",
      "{'source_port': 1.0, 'destination_port': 1.0, 'link_id': 'Link_9', 'flows': {2: [Stream_12,137.672,9993,ES_4->Switch_2->Switch_3->Switch_4->Switch_5->ES_9], 5: [Stream_14,84.848,832,ES_5->Switch_3->Switch_4->Switch_5->ES_9, Stream_44,113.704,9210,ES_15->Switch_8->Switch_7->Switch_6->Switch_5->ES_9], 1: [Stream_16,129.968,7440,ES_6->Switch_3->Switch_4->Switch_5->ES_9], 4: [Stream_23,75.568,1033,ES_8->Switch_4->Switch_5->ES_9], 3: [Stream_25,70.808,1666,ES_9->Switch_5->Switch_6->Switch_7->Switch_8->ES_15], 0: [Stream_26,66.592,8378,ES_9->Switch_5->Switch_6->ES_11, Stream_27,56.36,3381,ES_9->Switch_5->Switch_6->ES_12, Stream_39,109.192,2914,ES_13->Switch_7->Switch_6->Switch_5->ES_9]}}\n",
      "{'source_port': 1.0, 'destination_port': 2.0, 'link_id': 'Link_10', 'flows': {5: [Stream_8,133.176,6938,ES_3->Switch_2->Switch_3->Switch_4->Switch_5->ES_10, Stream_48,129.48,9801,ES_16->Switch_8->Switch_7->Switch_6->Switch_5->ES_10], 1: [Stream_19,113.48,2037,ES_7->Switch_4->Switch_5->ES_10, Stream_20,113.48,6869,ES_7->Switch_4->Switch_5->ES_10, Stream_28,67.248,2949,ES_10->Switch_5->Switch_4->ES_8], 6: [Stream_24,46.576,6249,ES_8->Switch_4->Switch_5->ES_10], 2: [Stream_29,65.864,3197,ES_10->Switch_5->Switch_4->ES_7], 3: [Stream_30,86.784,6158,ES_10->Switch_5->Switch_4->Switch_3->Switch_2->ES_4]}}\n",
      "{'source_port': 4.0, 'destination_port': 3.0, 'link_id': 'Link_22', 'flows': {7: [Stream_9,93.512,9711,ES_3->Switch_2->Switch_3->Switch_4->Switch_5->Switch_6->ES_11, Stream_41,54.288,3617,ES_14->Switch_7->Switch_6->Switch_5->Switch_4->ES_7], 1: [Stream_15,184.872,6640,ES_5->Switch_3->Switch_4->Switch_5->Switch_6->Switch_7->ES_14, Stream_21,128.872,2249,ES_7->Switch_4->Switch_5->Switch_6->ES_11], 3: [Stream_25,70.808,1666,ES_9->Switch_5->Switch_6->Switch_7->Switch_8->ES_15], 0: [Stream_26,66.592,8378,ES_9->Switch_5->Switch_6->ES_11, Stream_27,56.36,3381,ES_9->Switch_5->Switch_6->ES_12, Stream_31,107.04,1223,ES_11->Switch_6->Switch_5->Switch_4->Switch_3->ES_5, Stream_34,106.752,5253,ES_12->Switch_6->Switch_5->Switch_4->ES_7, Stream_39,109.192,2914,ES_13->Switch_7->Switch_6->Switch_5->ES_9], 5: [Stream_44,113.704,9210,ES_15->Switch_8->Switch_7->Switch_6->Switch_5->ES_9, Stream_48,129.48,9801,ES_16->Switch_8->Switch_7->Switch_6->Switch_5->ES_10]}}\n",
      "{'source_port': 1.0, 'destination_port': 1.0, 'link_id': 'Link_11', 'flows': {7: [Stream_9,93.512,9711,ES_3->Switch_2->Switch_3->Switch_4->Switch_5->Switch_6->ES_11], 1: [Stream_21,128.872,2249,ES_7->Switch_4->Switch_5->Switch_6->ES_11], 0: [Stream_26,66.592,8378,ES_9->Switch_5->Switch_6->ES_11, Stream_31,107.04,1223,ES_11->Switch_6->Switch_5->Switch_4->Switch_3->ES_5], 2: [Stream_32,28.744,4950,ES_11->Switch_6->ES_12], 6: [Stream_33,47.032,7535,ES_11->Switch_6->Switch_7->ES_14], 5: [Stream_43,98.616,7087,ES_15->Switch_8->Switch_7->Switch_6->ES_11, Stream_47,99.968,2472,ES_16->Switch_8->Switch_7->Switch_6->ES_11]}}\n",
      "{'source_port': 1.0, 'destination_port': 2.0, 'link_id': 'Link_12', 'flows': {2: [Stream_3,129.528,9867,ES_1->Switch_1->Switch_8->Switch_7->Switch_6->ES_12, Stream_32,28.744,4950,ES_11->Switch_6->ES_12, Stream_36,72.784,2391,ES_12->Switch_6->Switch_7->Switch_8->ES_15], 0: [Stream_27,56.36,3381,ES_9->Switch_5->Switch_6->ES_12, Stream_34,106.752,5253,ES_12->Switch_6->Switch_5->Switch_4->ES_7], 1: [Stream_35,84.28,5551,ES_12->Switch_6->Switch_7->Switch_8->ES_15]}}\n",
      "{'source_port': 4.0, 'destination_port': 3.0, 'link_id': 'Link_23', 'flows': {2: [Stream_3,129.528,9867,ES_1->Switch_1->Switch_8->Switch_7->Switch_6->ES_12, Stream_36,72.784,2391,ES_12->Switch_6->Switch_7->Switch_8->ES_15], 1: [Stream_15,184.872,6640,ES_5->Switch_3->Switch_4->Switch_5->Switch_6->Switch_7->ES_14, Stream_35,84.28,5551,ES_12->Switch_6->Switch_7->Switch_8->ES_15], 3: [Stream_25,70.808,1666,ES_9->Switch_5->Switch_6->Switch_7->Switch_8->ES_15], 6: [Stream_33,47.032,7535,ES_11->Switch_6->Switch_7->ES_14], 0: [Stream_39,109.192,2914,ES_13->Switch_7->Switch_6->Switch_5->ES_9], 7: [Stream_41,54.288,3617,ES_14->Switch_7->Switch_6->Switch_5->Switch_4->ES_7], 5: [Stream_43,98.616,7087,ES_15->Switch_8->Switch_7->Switch_6->ES_11, Stream_44,113.704,9210,ES_15->Switch_8->Switch_7->Switch_6->Switch_5->ES_9, Stream_47,99.968,2472,ES_16->Switch_8->Switch_7->Switch_6->ES_11, Stream_48,129.48,9801,ES_16->Switch_8->Switch_7->Switch_6->Switch_5->ES_10]}}\n",
      "{'source_port': 1.0, 'destination_port': 1.0, 'link_id': 'Link_13', 'flows': {1: [Stream_6,89.792,5706,ES_2->Switch_1->Switch_8->Switch_7->ES_13], 2: [Stream_37,57.04,6452,ES_13->Switch_7->Switch_8->Switch_1->ES_2], 4: [Stream_38,49.016,2265,ES_13->Switch_7->ES_14], 0: [Stream_39,109.192,2914,ES_13->Switch_7->Switch_6->Switch_5->ES_9]}}\n",
      "{'source_port': 1.0, 'destination_port': 2.0, 'link_id': 'Link_14', 'flows': {7: [Stream_1,70.12,9389,ES_1->Switch_1->Switch_8->Switch_7->ES_14, Stream_41,54.288,3617,ES_14->Switch_7->Switch_6->Switch_5->Switch_4->ES_7], 1: [Stream_15,184.872,6640,ES_5->Switch_3->Switch_4->Switch_5->Switch_6->Switch_7->ES_14], 6: [Stream_33,47.032,7535,ES_11->Switch_6->Switch_7->ES_14], 4: [Stream_38,49.016,2265,ES_13->Switch_7->ES_14, Stream_42,56.768,9299,ES_14->Switch_7->Switch_8->Switch_1->Switch_2->ES_3], 3: [Stream_40,32.528,7900,ES_14->Switch_7->Switch_8->ES_16], 5: [Stream_46,81.552,3831,ES_16->Switch_8->Switch_7->ES_14]}}\n",
      "{'source_port': 4.0, 'destination_port': 4.0, 'link_id': 'Link_24', 'flows': {7: [Stream_1,70.12,9389,ES_1->Switch_1->Switch_8->Switch_7->ES_14], 2: [Stream_3,129.528,9867,ES_1->Switch_1->Switch_8->Switch_7->Switch_6->ES_12, Stream_36,72.784,2391,ES_12->Switch_6->Switch_7->Switch_8->ES_15, Stream_37,57.04,6452,ES_13->Switch_7->Switch_8->Switch_1->ES_2], 1: [Stream_6,89.792,5706,ES_2->Switch_1->Switch_8->Switch_7->ES_13, Stream_35,84.28,5551,ES_12->Switch_6->Switch_7->Switch_8->ES_15], 3: [Stream_25,70.808,1666,ES_9->Switch_5->Switch_6->Switch_7->Switch_8->ES_15, Stream_40,32.528,7900,ES_14->Switch_7->Switch_8->ES_16], 4: [Stream_42,56.768,9299,ES_14->Switch_7->Switch_8->Switch_1->Switch_2->ES_3], 5: [Stream_43,98.616,7087,ES_15->Switch_8->Switch_7->Switch_6->ES_11, Stream_44,113.704,9210,ES_15->Switch_8->Switch_7->Switch_6->Switch_5->ES_9, Stream_46,81.552,3831,ES_16->Switch_8->Switch_7->ES_14, Stream_47,99.968,2472,ES_16->Switch_8->Switch_7->Switch_6->ES_11, Stream_48,129.48,9801,ES_16->Switch_8->Switch_7->Switch_6->Switch_5->ES_10]}}\n",
      "{'source_port': 1.0, 'destination_port': 1.0, 'link_id': 'Link_15', 'flows': {7: [Stream_4,49.2,4052,ES_2->Switch_1->Switch_8->ES_15, Stream_45,55.768,1007,ES_15->Switch_8->Switch_1->Switch_2->ES_4], 0: [Stream_17,100.896,7943,ES_6->Switch_3->Switch_2->Switch_1->Switch_8->ES_15], 3: [Stream_25,70.808,1666,ES_9->Switch_5->Switch_6->Switch_7->Switch_8->ES_15], 1: [Stream_35,84.28,5551,ES_12->Switch_6->Switch_7->Switch_8->ES_15], 2: [Stream_36,72.784,2391,ES_12->Switch_6->Switch_7->Switch_8->ES_15], 5: [Stream_43,98.616,7087,ES_15->Switch_8->Switch_7->Switch_6->ES_11, Stream_44,113.704,9210,ES_15->Switch_8->Switch_7->Switch_6->Switch_5->ES_9]}}\n",
      "{'source_port': 1.0, 'destination_port': 2.0, 'link_id': 'Link_16', 'flows': {4: [Stream_5,54.944,7762,ES_2->Switch_1->Switch_8->ES_16], 3: [Stream_40,32.528,7900,ES_14->Switch_7->Switch_8->ES_16], 5: [Stream_46,81.552,3831,ES_16->Switch_8->Switch_7->ES_14, Stream_47,99.968,2472,ES_16->Switch_8->Switch_7->Switch_6->ES_11, Stream_48,129.48,9801,ES_16->Switch_8->Switch_7->Switch_6->Switch_5->ES_10]}}\n"
     ]
    }
   ],
   "source": [
    "for k, item in G.edges.items():\n",
    "    print(item)"
   ]
  },
  {
   "cell_type": "code",
   "execution_count": null,
   "id": "1d37ba27",
   "metadata": {},
   "outputs": [],
   "source": []
  },
  {
   "cell_type": "code",
   "execution_count": null,
   "id": "e77136f8",
   "metadata": {},
   "outputs": [],
   "source": []
  },
  {
   "cell_type": "code",
   "execution_count": null,
   "id": "ef540095-05de-4559-b681-0a4789a7b228",
   "metadata": {},
   "outputs": [],
   "source": []
  },
  {
   "cell_type": "code",
   "execution_count": null,
   "id": "168b98ae-ebe6-4a8a-8e6d-615475cef097",
   "metadata": {},
   "outputs": [],
   "source": []
  },
  {
   "cell_type": "code",
   "execution_count": null,
   "id": "9caaa812-6728-4050-9883-39a9a323dbf8",
   "metadata": {},
   "outputs": [],
   "source": []
  }
 ],
 "metadata": {
  "kernelspec": {
   "display_name": "Python 3",
   "language": "python",
   "name": "python3"
  },
  "language_info": {
   "codemirror_mode": {
    "name": "ipython",
    "version": 3
   },
   "file_extension": ".py",
   "mimetype": "text/x-python",
   "name": "python",
   "nbconvert_exporter": "python",
   "pygments_lexer": "ipython3",
   "version": "3.10.11"
  }
 },
 "nbformat": 4,
 "nbformat_minor": 5
}
