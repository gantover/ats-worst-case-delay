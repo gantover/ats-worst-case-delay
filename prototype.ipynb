{
 "cells": [
  {
   "cell_type": "code",
   "execution_count": 1,
   "id": "37068a2e-3878-4f48-8df4-772a20657f64",
   "metadata": {},
   "outputs": [],
   "source": [
    "import pandas as pd"
   ]
  },
  {
   "cell_type": "code",
   "execution_count": 37,
   "id": "c7135ee5-87d7-4df9-b366-bbacb0c4e3a0",
   "metadata": {},
   "outputs": [],
   "source": [
    "streams = pd.read_csv(\"example_streams.csv\",\n",
    "                      names=['PCP','StreamName','StreamType','SourceNode','DestinationNode','Size','Period','Deadline']\n",
    "                     )\n",
    "topology_cols = [str(i) for i in range(7)]\n",
    "topology = pd.read_csv(\"example_topology.csv\",names=topology_cols).groupby('0')"
   ]
  },
  {
   "cell_type": "code",
   "execution_count": 81,
   "id": "d1a6855e-7394-4a9d-b59e-4766868d9073",
   "metadata": {},
   "outputs": [],
   "source": [
    "switches = topology.get_group('SW')\n",
    "switches = switches.drop(columns=['4','5','6'])\n",
    "switches.columns = ['DeviceType','DeviceName','Ports','Domain']\n",
    "\n",
    "end_systems = topology.get_group('ES')\n",
    "end_systems = end_systems.drop(columns=['4','5','6'])\n",
    "end_systems.columns = ['DeviceType','DeviceName','Ports','Domain']\n",
    "\n",
    "links = topology.get_group('LINK')\n",
    "links.columns = ['LINK','LinkID','SourceDevice','SourcePort','DestinationDevice','DestinationPort','Domain']"
   ]
  },
  {
   "cell_type": "code",
   "execution_count": null,
   "id": "29503af8-2442-48a7-a39d-b347c4dba29d",
   "metadata": {},
   "outputs": [],
   "source": []
  }
 ],
 "metadata": {
  "kernelspec": {
   "display_name": "Python 3 (ipykernel)",
   "language": "python",
   "name": "python3"
  },
  "language_info": {
   "codemirror_mode": {
    "name": "ipython",
    "version": 3
   },
   "file_extension": ".py",
   "mimetype": "text/x-python",
   "name": "python",
   "nbconvert_exporter": "python",
   "pygments_lexer": "ipython3",
   "version": "3.12.6"
  }
 },
 "nbformat": 4,
 "nbformat_minor": 5
}
