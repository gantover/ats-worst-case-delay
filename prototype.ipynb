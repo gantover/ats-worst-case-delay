{
 "cells": [
  {
   "cell_type": "code",
   "execution_count": 187,
   "id": "37068a2e-3878-4f48-8df4-772a20657f64",
   "metadata": {},
   "outputs": [],
   "source": [
    "import pandas as pd\n",
    "import networkx as nx\n",
    "import matplotlib.pyplot as plt"
   ]
  },
  {
   "cell_type": "markdown",
   "id": "2ce7a294-e016-495c-9555-9a06ba1ed5d1",
   "metadata": {},
   "source": [
    "# PROTOTYPE\n",
    "\n",
    "### Objectives\n",
    "\n",
    "- Extract data from csv files to put in an appropriate data structure\n",
    "- Build a network and find shortest path"
   ]
  },
  {
   "cell_type": "code",
   "execution_count": 188,
   "id": "c7135ee5-87d7-4df9-b366-bbacb0c4e3a0",
   "metadata": {},
   "outputs": [],
   "source": [
    "streams = pd.read_csv(\"test_cases/example_streams.csv\",\n",
    "                      names=['PCP','StreamName','StreamType','SourceNode','DestinationNode','Size','Period','Deadline']\n",
    "                     )\n",
    "topology_cols = [str(i) for i in range(7)]\n",
    "topology = pd.read_csv(\"test_cases/simple_topology.csv\",names=topology_cols).groupby('0')"
   ]
  },
  {
   "cell_type": "code",
   "execution_count": 189,
   "id": "d1a6855e-7394-4a9d-b59e-4766868d9073",
   "metadata": {},
   "outputs": [],
   "source": [
    "switches = topology.get_group('SW')\n",
    "switches = switches.drop(columns=['4','5','6'])\n",
    "switches.columns = ['DeviceType','DeviceName','Ports','Domain']\n",
    "\n",
    "end_systems = topology.get_group('ES')\n",
    "end_systems = end_systems.drop(columns=['4','5','6'])\n",
    "end_systems.columns = ['DeviceType','DeviceName','Ports','Domain']\n",
    "\n",
    "links = topology.get_group('LINK')\n",
    "links.columns = ['LINK','LinkID','SourceDevice','SourcePort','DestinationDevice','DestinationPort','Domain']"
   ]
  },
  {
   "cell_type": "code",
   "execution_count": 190,
   "id": "67e7d3db-d02a-43b5-be89-3636c35f4268",
   "metadata": {},
   "outputs": [
    {
     "data": {
      "text/html": [
       "<div>\n",
       "<style scoped>\n",
       "    .dataframe tbody tr th:only-of-type {\n",
       "        vertical-align: middle;\n",
       "    }\n",
       "\n",
       "    .dataframe tbody tr th {\n",
       "        vertical-align: top;\n",
       "    }\n",
       "\n",
       "    .dataframe thead th {\n",
       "        text-align: right;\n",
       "    }\n",
       "</style>\n",
       "<table border=\"1\" class=\"dataframe\">\n",
       "  <thead>\n",
       "    <tr style=\"text-align: right;\">\n",
       "      <th></th>\n",
       "      <th>DeviceType</th>\n",
       "      <th>DeviceName</th>\n",
       "      <th>Ports</th>\n",
       "      <th>Domain</th>\n",
       "    </tr>\n",
       "  </thead>\n",
       "  <tbody>\n",
       "    <tr>\n",
       "      <th>3</th>\n",
       "      <td>ES</td>\n",
       "      <td>ES_0</td>\n",
       "      <td>1</td>\n",
       "      <td>0.0</td>\n",
       "    </tr>\n",
       "    <tr>\n",
       "      <th>4</th>\n",
       "      <td>ES</td>\n",
       "      <td>ES_1</td>\n",
       "      <td>1</td>\n",
       "      <td>0.0</td>\n",
       "    </tr>\n",
       "    <tr>\n",
       "      <th>5</th>\n",
       "      <td>ES</td>\n",
       "      <td>ES_2</td>\n",
       "      <td>1</td>\n",
       "      <td>0.0</td>\n",
       "    </tr>\n",
       "    <tr>\n",
       "      <th>6</th>\n",
       "      <td>ES</td>\n",
       "      <td>ES_3</td>\n",
       "      <td>1</td>\n",
       "      <td>0.0</td>\n",
       "    </tr>\n",
       "  </tbody>\n",
       "</table>\n",
       "</div>"
      ],
      "text/plain": [
       "  DeviceType DeviceName Ports  Domain\n",
       "3         ES       ES_0     1     0.0\n",
       "4         ES       ES_1     1     0.0\n",
       "5         ES       ES_2     1     0.0\n",
       "6         ES       ES_3     1     0.0"
      ]
     },
     "execution_count": 190,
     "metadata": {},
     "output_type": "execute_result"
    }
   ],
   "source": [
    "end_systems.head()"
   ]
  },
  {
   "cell_type": "code",
   "execution_count": 191,
   "id": "2c6a3dd9-f183-4671-8ad3-1d953e581070",
   "metadata": {},
   "outputs": [
    {
     "data": {
      "text/html": [
       "<div>\n",
       "<style scoped>\n",
       "    .dataframe tbody tr th:only-of-type {\n",
       "        vertical-align: middle;\n",
       "    }\n",
       "\n",
       "    .dataframe tbody tr th {\n",
       "        vertical-align: top;\n",
       "    }\n",
       "\n",
       "    .dataframe thead th {\n",
       "        text-align: right;\n",
       "    }\n",
       "</style>\n",
       "<table border=\"1\" class=\"dataframe\">\n",
       "  <thead>\n",
       "    <tr style=\"text-align: right;\">\n",
       "      <th></th>\n",
       "      <th>DeviceType</th>\n",
       "      <th>DeviceName</th>\n",
       "      <th>Ports</th>\n",
       "      <th>Domain</th>\n",
       "    </tr>\n",
       "  </thead>\n",
       "  <tbody>\n",
       "    <tr>\n",
       "      <th>0</th>\n",
       "      <td>SW</td>\n",
       "      <td>SW_0</td>\n",
       "      <td>8</td>\n",
       "      <td>0.0</td>\n",
       "    </tr>\n",
       "    <tr>\n",
       "      <th>1</th>\n",
       "      <td>SW</td>\n",
       "      <td>SW_1</td>\n",
       "      <td>8</td>\n",
       "      <td>0.0</td>\n",
       "    </tr>\n",
       "    <tr>\n",
       "      <th>2</th>\n",
       "      <td>SW</td>\n",
       "      <td>SW_2</td>\n",
       "      <td>8</td>\n",
       "      <td>0.0</td>\n",
       "    </tr>\n",
       "  </tbody>\n",
       "</table>\n",
       "</div>"
      ],
      "text/plain": [
       "  DeviceType DeviceName Ports  Domain\n",
       "0         SW       SW_0     8     0.0\n",
       "1         SW       SW_1     8     0.0\n",
       "2         SW       SW_2     8     0.0"
      ]
     },
     "execution_count": 191,
     "metadata": {},
     "output_type": "execute_result"
    }
   ],
   "source": [
    "switches.head()"
   ]
  },
  {
   "cell_type": "code",
   "execution_count": 192,
   "id": "10ae9f83-050d-4bac-b5cf-c90cf548a53f",
   "metadata": {},
   "outputs": [
    {
     "data": {
      "text/html": [
       "<div>\n",
       "<style scoped>\n",
       "    .dataframe tbody tr th:only-of-type {\n",
       "        vertical-align: middle;\n",
       "    }\n",
       "\n",
       "    .dataframe tbody tr th {\n",
       "        vertical-align: top;\n",
       "    }\n",
       "\n",
       "    .dataframe thead th {\n",
       "        text-align: right;\n",
       "    }\n",
       "</style>\n",
       "<table border=\"1\" class=\"dataframe\">\n",
       "  <thead>\n",
       "    <tr style=\"text-align: right;\">\n",
       "      <th></th>\n",
       "      <th>LINK</th>\n",
       "      <th>LinkID</th>\n",
       "      <th>SourceDevice</th>\n",
       "      <th>SourcePort</th>\n",
       "      <th>DestinationDevice</th>\n",
       "      <th>DestinationPort</th>\n",
       "      <th>Domain</th>\n",
       "    </tr>\n",
       "  </thead>\n",
       "  <tbody>\n",
       "    <tr>\n",
       "      <th>7</th>\n",
       "      <td>LINK</td>\n",
       "      <td>Link_1</td>\n",
       "      <td>SW_0</td>\n",
       "      <td>NaN</td>\n",
       "      <td>SW_1</td>\n",
       "      <td>NaN</td>\n",
       "      <td>0.0</td>\n",
       "    </tr>\n",
       "    <tr>\n",
       "      <th>8</th>\n",
       "      <td>LINK</td>\n",
       "      <td>Link_2</td>\n",
       "      <td>SW_0</td>\n",
       "      <td>NaN</td>\n",
       "      <td>SW_2</td>\n",
       "      <td>NaN</td>\n",
       "      <td>0.0</td>\n",
       "    </tr>\n",
       "    <tr>\n",
       "      <th>9</th>\n",
       "      <td>LINK</td>\n",
       "      <td>Link_3</td>\n",
       "      <td>SW_0</td>\n",
       "      <td>3.0</td>\n",
       "      <td>ES_0</td>\n",
       "      <td>1.0</td>\n",
       "      <td>0.0</td>\n",
       "    </tr>\n",
       "    <tr>\n",
       "      <th>10</th>\n",
       "      <td>LINK</td>\n",
       "      <td>Link_4</td>\n",
       "      <td>SW_0</td>\n",
       "      <td>NaN</td>\n",
       "      <td>ES_1</td>\n",
       "      <td>NaN</td>\n",
       "      <td>0.0</td>\n",
       "    </tr>\n",
       "    <tr>\n",
       "      <th>11</th>\n",
       "      <td>LINK</td>\n",
       "      <td>Link_5</td>\n",
       "      <td>SW_1</td>\n",
       "      <td>NaN</td>\n",
       "      <td>SW_2</td>\n",
       "      <td>NaN</td>\n",
       "      <td>0.0</td>\n",
       "    </tr>\n",
       "  </tbody>\n",
       "</table>\n",
       "</div>"
      ],
      "text/plain": [
       "    LINK  LinkID SourceDevice  SourcePort DestinationDevice  DestinationPort  \\\n",
       "7   LINK  Link_1         SW_0         NaN              SW_1              NaN   \n",
       "8   LINK  Link_2         SW_0         NaN              SW_2              NaN   \n",
       "9   LINK  Link_3         SW_0         3.0              ES_0              1.0   \n",
       "10  LINK  Link_4         SW_0         NaN              ES_1              NaN   \n",
       "11  LINK  Link_5         SW_1         NaN              SW_2              NaN   \n",
       "\n",
       "    Domain  \n",
       "7      0.0  \n",
       "8      0.0  \n",
       "9      0.0  \n",
       "10     0.0  \n",
       "11     0.0  "
      ]
     },
     "execution_count": 192,
     "metadata": {},
     "output_type": "execute_result"
    }
   ],
   "source": [
    "links.head()"
   ]
  },
  {
   "cell_type": "code",
   "execution_count": 205,
   "id": "3d5b9b3d-9af2-47d9-972e-f36e94576838",
   "metadata": {},
   "outputs": [],
   "source": [
    "G = nx.MultiGraph()\n",
    "# multi graph to allow multiple links between two same nodes\n",
    "\n",
    "# this creates the links as well as the necessary nodes\n",
    "for link in links.iterrows():\n",
    "    source = link[1]['SourceDevice']\n",
    "    destination = link[1]['DestinationDevice']\n",
    "    source_port = link[1]['SourcePort']\n",
    "    destination_port = link[1]['DestinationPort']\n",
    "    G.add_edge(source,\n",
    "               destination,\n",
    "               source_port=source_port,\n",
    "               destination_port=destination_port\n",
    "              )\n",
    "\n",
    "for end_system in end_systems.iterrows():\n",
    "    name = end_system[1]['DeviceName']\n",
    "    G.nodes[name]['ports'] = end_system[1]['Ports']\n",
    "\n",
    "for switch in switches.iterrows():\n",
    "    name = switch[1]['DeviceName']\n",
    "    G.nodes[name]['ports'] = switch[1]['Ports']"
   ]
  },
  {
   "cell_type": "code",
   "execution_count": 206,
   "id": "ea15d5de-61c8-4a9f-b495-6ff28421d38c",
   "metadata": {},
   "outputs": [
    {
     "data": {
      "image/png": "[encoded data removed]",
      "text/plain": [
       "<Figure size 640x480 with 1 Axes>"
      ]
     },
     "metadata": {},
     "output_type": "display_data"
    }
   ],
   "source": [
    "path = nx.shortest_path(G, \"ES_0\", \"ES_3\")\n",
    "# Create a list of edges in the shortest path\n",
    "path_edges = list(zip(path, path[1:]))\n",
    "\n",
    "# Create a list of all edges, and assign colors based on whether they are in the shortest path or not\n",
    "edge_colors = [\n",
    "    \"red\" if edge in path_edges or tuple(reversed(edge)) in path_edges else \"black\"\n",
    "    for edge in G.edges()\n",
    "]\n",
    "\n",
    "# Visualize the graph\n",
    "pos = nx.spring_layout(G)\n",
    "nx.draw_networkx_nodes(G, pos, node_size = 200)\n",
    "nx.draw_networkx_edges(G, pos, edge_color=edge_colors)\n",
    "nx.draw_networkx_labels(G, pos)\n",
    "\n",
    "plt.show()"
   ]
  },
  {
   "cell_type": "code",
   "execution_count": 207,
   "id": "984a3be8-b019-4a51-8278-92ee1282ab85",
   "metadata": {},
   "outputs": [
    {
     "data": {
      "text/plain": [
       "{'ports': '8'}"
      ]
     },
     "execution_count": 207,
     "metadata": {},
     "output_type": "execute_result"
    }
   ],
   "source": [
    "G.nodes.get('SW_0')"
   ]
  },
  {
   "cell_type": "code",
   "execution_count": 210,
   "id": "d6fd6d34-ad58-4dfe-b046-e7c2ba85abc3",
   "metadata": {},
   "outputs": [
    {
     "data": {
      "text/plain": [
       "{'source_port': 3.0, 'destination_port': 1.0}"
      ]
     },
     "execution_count": 210,
     "metadata": {},
     "output_type": "execute_result"
    }
   ],
   "source": [
    "G.edges.get(['SW_0', 'ES_0', 0])"
   ]
  },
  {
   "cell_type": "code",
   "execution_count": 212,
   "id": "c5ec21e7-2c88-4a66-b573-a356d4ced707",
   "metadata": {},
   "outputs": [
    {
     "data": {
      "text/plain": [
       "ItemsView(MultiEdgeView([('SW_0', 'SW_1', 0), ('SW_0', 'SW_2', 0), ('SW_0', 'ES_0', 0), ('SW_0', 'ES_0', 1), ('SW_0', 'ES_1', 0), ('SW_1', 'SW_2', 0), ('SW_1', 'ES_2', 0), ('SW_2', 'ES_3', 0)]))"
      ]
     },
     "execution_count": 212,
     "metadata": {},
     "output_type": "execute_result"
    }
   ],
   "source": [
    "G.edges.items()"
   ]
  }
 ],
 "metadata": {
  "kernelspec": {
   "display_name": "Python 3 (ipykernel)",
   "language": "python",
   "name": "python3"
  },
  "language_info": {
   "codemirror_mode": {
    "name": "ipython",
    "version": 3
   },
   "file_extension": ".py",
   "mimetype": "text/x-python",
   "name": "python",
   "nbconvert_exporter": "python",
   "pygments_lexer": "ipython3",
   "version": "3.12.6"
  }
 },
 "nbformat": 4,
 "nbformat_minor": 5
}
